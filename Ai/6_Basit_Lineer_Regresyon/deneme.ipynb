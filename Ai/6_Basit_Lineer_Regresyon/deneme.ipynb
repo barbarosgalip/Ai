{
 "cells": [
  {
   "cell_type": "code",
   "execution_count": null,
   "metadata": {},
   "outputs": [],
   "source": [
    "import pandas as pd\n",
    "import numpy as np\n",
    "from sklearn.linear_model import LinearRegression\n",
    "import matplotlib as plt\n",
    "\n",
    "data=pd.read_csv('/home/barbaros/Desktop/Aı/6_Basit_Lineer_Regresyon/data/Advertising.csv', index_col=0)\n",
    "data"
   ]
  },
  {
   "cell_type": "code",
   "execution_count": null,
   "metadata": {},
   "outputs": [],
   "source": [
    "en_kucuk = lis[0][1]\n",
    "en_buyuk = lis[0][1]\n",
    "for n in lis:\n",
    "    x=n\n",
    "    n=n[1]\n",
    "    if en_kucuk > n:\n",
    "        en_kucuk = x\n",
    "    \n",
    "    if en_buyuk < n:\n",
    "        en_buyuk = x\n",
    "print(en_buyuk)\n",
    "\n",
    "\n",
    "en_kucuk = lis[0][1]\n",
    "en_buyuk = lis[0][1]\n",
    "for n in lis:\n",
    "  x=n\n",
    "  n=n[1]\n",
    "  if en_kucuk > n:\n",
    "    kaz = x\n",
    "  elif en_buyuk < n:\n",
    "    b = x\n",
    "print(kaz)"
   ]
  }
 ],
 "metadata": {
  "kernelspec": {
   "display_name": "Python 3",
   "language": "python",
   "name": "python3"
  },
  "language_info": {
   "name": "python",
   "version": "3.10.6"
  },
  "orig_nbformat": 4,
  "vscode": {
   "interpreter": {
    "hash": "916dbcbb3f70747c44a77c7bcd40155683ae19c65e1c03b4aa3499c5328201f1"
   }
  }
 },
 "nbformat": 4,
 "nbformat_minor": 2
}
