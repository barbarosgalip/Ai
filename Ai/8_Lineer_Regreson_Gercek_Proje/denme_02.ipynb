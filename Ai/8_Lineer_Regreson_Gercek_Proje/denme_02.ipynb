{
 "cells": [
  {
   "cell_type": "code",
   "execution_count": 1,
   "metadata": {},
   "outputs": [],
   "source": [
    "import numpy as np\n",
    "import pandas as pd\n",
    "import seaborn as sns\n",
    "import matplotlib.pyplot as plt\n",
    "import warnings\n",
    "from sklearn.linear_model import LinearRegression\n",
    "import statsmodels.api as sm\n",
    "from sklearn.preprocessing import minmax_scale\n",
    "from sklearn.feature_selection import RFE\n",
    "warnings.simplefilter(action='ignore', category=Warning)\n",
    "\n"
   ]
  },
  {
   "cell_type": "code",
   "execution_count": 2,
   "metadata": {},
   "outputs": [
    {
     "ename": "AttributeError",
     "evalue": "'DataFrame' object has no attribute 'symboling'",
     "output_type": "error",
     "traceback": [
      "\u001b[0;31m---------------------------------------------------------------------------\u001b[0m",
      "\u001b[0;31mAttributeError\u001b[0m                            Traceback (most recent call last)",
      "Cell \u001b[0;32mIn[2], line 16\u001b[0m\n\u001b[1;32m      8\u001b[0m data\u001b[39m.\u001b[39mmanufacturer\u001b[39m=\u001b[39mdata\u001b[39m.\u001b[39mmanufacturer\u001b[39m.\u001b[39mstr\u001b[39m.\u001b[39mlower()\n\u001b[1;32m      9\u001b[0m data\u001b[39m.\u001b[39mreplace({\n\u001b[1;32m     10\u001b[0m     \u001b[39m'\u001b[39m\u001b[39mmaxda\u001b[39m\u001b[39m'\u001b[39m: \u001b[39m'\u001b[39m\u001b[39mmazda\u001b[39m\u001b[39m'\u001b[39m,\n\u001b[1;32m     11\u001b[0m     \u001b[39m'\u001b[39m\u001b[39mporcshce\u001b[39m\u001b[39m'\u001b[39m: \u001b[39m'\u001b[39m\u001b[39mporsche\u001b[39m\u001b[39m'\u001b[39m,\n\u001b[0;32m   (...)\u001b[0m\n\u001b[1;32m     14\u001b[0m     \u001b[39m'\u001b[39m\u001b[39mvolkswagen\u001b[39m\u001b[39m'\u001b[39m: \u001b[39m'\u001b[39m\u001b[39mvw\u001b[39m\u001b[39m'\u001b[39m\n\u001b[1;32m     15\u001b[0m }, inplace\u001b[39m=\u001b[39m\u001b[39mTrue\u001b[39;00m)\n\u001b[0;32m---> 16\u001b[0m data\u001b[39m.\u001b[39;49msymboling\u001b[39m.\u001b[39munique()\n\u001b[1;32m     18\u001b[0m data_new \u001b[39m=\u001b[39m data[[\n\u001b[1;32m     19\u001b[0m         \u001b[39m'\u001b[39m\u001b[39mcar_ID\u001b[39m\u001b[39m'\u001b[39m, \u001b[39m'\u001b[39m\u001b[39msymboling\u001b[39m\u001b[39m'\u001b[39m, \u001b[39m'\u001b[39m\u001b[39mfueltype\u001b[39m\u001b[39m'\u001b[39m, \u001b[39m'\u001b[39m\u001b[39mmanufacturer\u001b[39m\u001b[39m'\u001b[39m, \u001b[39m'\u001b[39m\u001b[39maspiration\u001b[39m\u001b[39m'\u001b[39m,\n\u001b[1;32m     20\u001b[0m         \u001b[39m'\u001b[39m\u001b[39mdoornumber\u001b[39m\u001b[39m'\u001b[39m, \u001b[39m'\u001b[39m\u001b[39mcarbody\u001b[39m\u001b[39m'\u001b[39m, \u001b[39m'\u001b[39m\u001b[39mdrivewheel\u001b[39m\u001b[39m'\u001b[39m, \u001b[39m'\u001b[39m\u001b[39menginelocation\u001b[39m\u001b[39m'\u001b[39m, \u001b[39m'\u001b[39m\u001b[39mwheelbase\u001b[39m\u001b[39m'\u001b[39m,\n\u001b[1;32m     21\u001b[0m         \u001b[39m'\u001b[39m\u001b[39mcarlength\u001b[39m\u001b[39m'\u001b[39m, \u001b[39m'\u001b[39m\u001b[39mcarwidth\u001b[39m\u001b[39m'\u001b[39m, \u001b[39m'\u001b[39m\u001b[39mcurbweight\u001b[39m\u001b[39m'\u001b[39m, \u001b[39m'\u001b[39m\u001b[39menginetype\u001b[39m\u001b[39m'\u001b[39m, \u001b[39m'\u001b[39m\u001b[39mcylindernumber\u001b[39m\u001b[39m'\u001b[39m,\n\u001b[1;32m     22\u001b[0m         \u001b[39m'\u001b[39m\u001b[39menginesize\u001b[39m\u001b[39m'\u001b[39m, \u001b[39m'\u001b[39m\u001b[39mfuelsystem\u001b[39m\u001b[39m'\u001b[39m, \u001b[39m'\u001b[39m\u001b[39mboreratio\u001b[39m\u001b[39m'\u001b[39m, \u001b[39m'\u001b[39m\u001b[39mhorsepower\u001b[39m\u001b[39m'\u001b[39m, \u001b[39m'\u001b[39m\u001b[39mprice\u001b[39m\u001b[39m'\u001b[39m]]\n\u001b[1;32m     23\u001b[0m data_new\u001b[39m.\u001b[39msyboling\u001b[39m.\u001b[39munique()\n",
      "File \u001b[0;32m~/.local/lib/python3.10/site-packages/pandas/core/generic.py:5902\u001b[0m, in \u001b[0;36mNDFrame.__getattr__\u001b[0;34m(self, name)\u001b[0m\n\u001b[1;32m   5895\u001b[0m \u001b[39mif\u001b[39;00m (\n\u001b[1;32m   5896\u001b[0m     name \u001b[39mnot\u001b[39;00m \u001b[39min\u001b[39;00m \u001b[39mself\u001b[39m\u001b[39m.\u001b[39m_internal_names_set\n\u001b[1;32m   5897\u001b[0m     \u001b[39mand\u001b[39;00m name \u001b[39mnot\u001b[39;00m \u001b[39min\u001b[39;00m \u001b[39mself\u001b[39m\u001b[39m.\u001b[39m_metadata\n\u001b[1;32m   5898\u001b[0m     \u001b[39mand\u001b[39;00m name \u001b[39mnot\u001b[39;00m \u001b[39min\u001b[39;00m \u001b[39mself\u001b[39m\u001b[39m.\u001b[39m_accessors\n\u001b[1;32m   5899\u001b[0m     \u001b[39mand\u001b[39;00m \u001b[39mself\u001b[39m\u001b[39m.\u001b[39m_info_axis\u001b[39m.\u001b[39m_can_hold_identifiers_and_holds_name(name)\n\u001b[1;32m   5900\u001b[0m ):\n\u001b[1;32m   5901\u001b[0m     \u001b[39mreturn\u001b[39;00m \u001b[39mself\u001b[39m[name]\n\u001b[0;32m-> 5902\u001b[0m \u001b[39mreturn\u001b[39;00m \u001b[39mobject\u001b[39;49m\u001b[39m.\u001b[39;49m\u001b[39m__getattribute__\u001b[39;49m(\u001b[39mself\u001b[39;49m, name)\n",
      "\u001b[0;31mAttributeError\u001b[0m: 'DataFrame' object has no attribute 'symboling'"
     ]
    }
   ],
   "source": [
    "df = pd.read_csv('data/Automobile.csv', index_col=1)\n",
    "len(df.describe().columns)\n",
    "\n",
    "manu=df['CarName'].apply(lambda x: x.split(\" \")[0])\n",
    "data=df.copy()\n",
    "data.drop(['CarName'], axis=1, inplace=True)\n",
    "data.insert(3,'manufacturer', manu)\n",
    "data.manufacturer=data.manufacturer.str.lower()\n",
    "data.replace({\n",
    "    'maxda': 'mazda',\n",
    "    'porcshce': 'porsche',\n",
    "    'toyouta': 'toyota',\n",
    "    'vokswagen': 'vw',\n",
    "    'volkswagen': 'vw'\n",
    "}, inplace=True)\n",
    "data.symboling.unique()\n",
    "\n",
    "data_new = data[[\n",
    "        'car_ID', 'symboling', 'fueltype', 'manufacturer', 'aspiration',\n",
    "        'doornumber', 'carbody', 'drivewheel', 'enginelocation', 'wheelbase',\n",
    "        'carlength', 'carwidth', 'curbweight', 'enginetype', 'cylindernumber',\n",
    "        'enginesize', 'fuelsystem', 'boreratio', 'horsepower', 'price']]\n",
    "data_new.symboling.unique()\n"
   ]
  }
 ],
 "metadata": {
  "kernelspec": {
   "display_name": "Python 3",
   "language": "python",
   "name": "python3"
  },
  "language_info": {
   "codemirror_mode": {
    "name": "ipython",
    "version": 3
   },
   "file_extension": ".py",
   "mimetype": "text/x-python",
   "name": "python",
   "nbconvert_exporter": "python",
   "pygments_lexer": "ipython3",
   "version": "3.10.6"
  },
  "orig_nbformat": 4,
  "vscode": {
   "interpreter": {
    "hash": "916dbcbb3f70747c44a77c7bcd40155683ae19c65e1c03b4aa3499c5328201f1"
   }
  }
 },
 "nbformat": 4,
 "nbformat_minor": 2
}
