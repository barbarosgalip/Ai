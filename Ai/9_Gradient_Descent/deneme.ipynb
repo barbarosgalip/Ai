{
 "cells": [
  {
   "cell_type": "code",
   "execution_count": 181,
   "metadata": {},
   "outputs": [],
   "source": [
    "import numpy as np\n",
    "import matplotlib.pyplot as plt"
   ]
  },
  {
   "cell_type": "code",
   "execution_count": 182,
   "metadata": {},
   "outputs": [
    {
     "data": {
      "text/plain": [
       "array([[0.86527832],\n",
       "       [0.6430889 ],\n",
       "       [0.81634876],\n",
       "       [0.05379902],\n",
       "       [0.85019636],\n",
       "       [0.25878815],\n",
       "       [0.63827883],\n",
       "       [0.01712944],\n",
       "       [0.95395218],\n",
       "       [0.32373694],\n",
       "       [0.05752168],\n",
       "       [0.97003573],\n",
       "       [0.29484808],\n",
       "       [0.76089801],\n",
       "       [0.67816748],\n",
       "       [0.50719507],\n",
       "       [0.96009933],\n",
       "       [0.77897143],\n",
       "       [0.46553675],\n",
       "       [0.02547495],\n",
       "       [0.03749636],\n",
       "       [0.97118844],\n",
       "       [0.14057361],\n",
       "       [0.15647337],\n",
       "       [0.95345315],\n",
       "       [0.40905597],\n",
       "       [0.22934986],\n",
       "       [0.22714211],\n",
       "       [0.69742763],\n",
       "       [0.97998092],\n",
       "       [0.65368978],\n",
       "       [0.99507465],\n",
       "       [0.5302832 ],\n",
       "       [0.04994025],\n",
       "       [0.92923025],\n",
       "       [0.35274351],\n",
       "       [0.53067378],\n",
       "       [0.75300657],\n",
       "       [0.38433739],\n",
       "       [0.83882542],\n",
       "       [0.25356154],\n",
       "       [0.32638664],\n",
       "       [0.04593191],\n",
       "       [0.99277356],\n",
       "       [0.45352684],\n",
       "       [0.32624423],\n",
       "       [0.23734078],\n",
       "       [0.74787844],\n",
       "       [0.04023914],\n",
       "       [0.11865118],\n",
       "       [0.30678418],\n",
       "       [0.07834796],\n",
       "       [0.34533909],\n",
       "       [0.24564018],\n",
       "       [0.11236087],\n",
       "       [0.24715704],\n",
       "       [0.11951222],\n",
       "       [0.69950912],\n",
       "       [0.82955969],\n",
       "       [0.54314668],\n",
       "       [0.28575718],\n",
       "       [0.51646967],\n",
       "       [0.55287917],\n",
       "       [0.07000073],\n",
       "       [0.80189815],\n",
       "       [0.31381036],\n",
       "       [0.22130837],\n",
       "       [0.67778102],\n",
       "       [0.90970943],\n",
       "       [0.13555362],\n",
       "       [0.82329257],\n",
       "       [0.11393108],\n",
       "       [0.1777053 ],\n",
       "       [0.73198565],\n",
       "       [0.59534196],\n",
       "       [0.92554624],\n",
       "       [0.01337717],\n",
       "       [0.86641506],\n",
       "       [0.10896033],\n",
       "       [0.57026338],\n",
       "       [0.74137819],\n",
       "       [0.35136935],\n",
       "       [0.5308571 ],\n",
       "       [0.12724054],\n",
       "       [0.9987349 ],\n",
       "       [0.80670547],\n",
       "       [0.05494186],\n",
       "       [0.58658642],\n",
       "       [0.44167635],\n",
       "       [0.80422729],\n",
       "       [0.61572176],\n",
       "       [0.48420342],\n",
       "       [0.44856686],\n",
       "       [0.51053566],\n",
       "       [0.18863031],\n",
       "       [0.56914146],\n",
       "       [0.47912308],\n",
       "       [0.66900827],\n",
       "       [0.90236157],\n",
       "       [0.74616143]])"
      ]
     },
     "execution_count": 182,
     "metadata": {},
     "output_type": "execute_result"
    }
   ],
   "source": [
    "X = np.random.rand(100, 1)\n",
    "X"
   ]
  },
  {
   "cell_type": "code",
   "execution_count": 183,
   "metadata": {},
   "outputs": [],
   "source": [
    "error=np.random.rand(100, 1)"
   ]
  },
  {
   "cell_type": "code",
   "execution_count": 184,
   "metadata": {},
   "outputs": [
    {
     "data": {
      "text/plain": [
       "array([[6.91031187],\n",
       "       [6.8149446 ],\n",
       "       [7.44170734],\n",
       "       [4.75043755],\n",
       "       [6.75296894],\n",
       "       [4.82680336],\n",
       "       [6.02286313],\n",
       "       [4.30205711],\n",
       "       [7.21526616],\n",
       "       [5.07510202],\n",
       "       [5.09456392],\n",
       "       [7.25769496],\n",
       "       [5.53165211],\n",
       "       [6.54652093],\n",
       "       [6.5891103 ],\n",
       "       [6.24527526],\n",
       "       [7.23338909],\n",
       "       [7.21488473],\n",
       "       [6.23438219],\n",
       "       [4.64662982],\n",
       "       [4.84257245],\n",
       "       [7.81035159],\n",
       "       [4.9313623 ],\n",
       "       [5.25328904],\n",
       "       [7.71564057],\n",
       "       [5.49850779],\n",
       "       [5.07144812],\n",
       "       [5.64202694],\n",
       "       [6.81037132],\n",
       "       [7.03765333],\n",
       "       [6.48137827],\n",
       "       [7.24446163],\n",
       "       [5.63355976],\n",
       "       [4.53966696],\n",
       "       [7.55104237],\n",
       "       [5.50553477],\n",
       "       [6.11989235],\n",
       "       [6.823419  ],\n",
       "       [5.16943788],\n",
       "       [6.57137561],\n",
       "       [4.96699421],\n",
       "       [5.13020052],\n",
       "       [4.53658508],\n",
       "       [7.5511437 ],\n",
       "       [6.23707124],\n",
       "       [5.85108641],\n",
       "       [4.73140757],\n",
       "       [6.58338478],\n",
       "       [4.98653052],\n",
       "       [5.03724914],\n",
       "       [5.6119195 ],\n",
       "       [5.20484879],\n",
       "       [5.53924163],\n",
       "       [4.76456761],\n",
       "       [5.01520958],\n",
       "       [5.44655336],\n",
       "       [4.85819918],\n",
       "       [6.78180657],\n",
       "       [6.87486428],\n",
       "       [6.0487116 ],\n",
       "       [5.66694644],\n",
       "       [5.93930336],\n",
       "       [6.19199774],\n",
       "       [4.90147241],\n",
       "       [7.27329301],\n",
       "       [5.81425962],\n",
       "       [5.0018296 ],\n",
       "       [6.30243136],\n",
       "       [7.05698682],\n",
       "       [4.61437722],\n",
       "       [7.30395164],\n",
       "       [5.13693999],\n",
       "       [5.26056857],\n",
       "       [6.4872019 ],\n",
       "       [5.86602705],\n",
       "       [7.4689299 ],\n",
       "       [4.93348909],\n",
       "       [6.90404541],\n",
       "       [5.01730813],\n",
       "       [5.91287931],\n",
       "       [6.91484384],\n",
       "       [5.34620729],\n",
       "       [5.89958285],\n",
       "       [5.00073306],\n",
       "       [7.72220085],\n",
       "       [6.67055663],\n",
       "       [4.60728465],\n",
       "       [6.02072235],\n",
       "       [5.8812412 ],\n",
       "       [6.99787453],\n",
       "       [6.81061252],\n",
       "       [5.90510245],\n",
       "       [5.77917079],\n",
       "       [5.98064292],\n",
       "       [4.70322555],\n",
       "       [6.1441955 ],\n",
       "       [5.482517  ],\n",
       "       [6.07248796],\n",
       "       [7.29367006],\n",
       "       [7.05803475]])"
      ]
     },
     "execution_count": 184,
     "metadata": {},
     "output_type": "execute_result"
    }
   ],
   "source": [
    "y = 4 + 3 * X + error\n",
    "y"
   ]
  },
  {
   "cell_type": "code",
   "execution_count": 185,
   "metadata": {},
   "outputs": [
    {
     "data": {
      "text/plain": [
       "Text(0, 0.5, 'y')"
      ]
     },
     "execution_count": 185,
     "metadata": {},
     "output_type": "execute_result"
    },
    {
     "data": {
      "image/png": "[encoded data removed]",
      "text/plain": [
       "<Figure size 640x480 with 1 Axes>"
      ]
     },
     "metadata": {},
     "output_type": "display_data"
    }
   ],
   "source": [
    "plt.scatter(X, y)\n",
    "plt.xlabel('X')\n",
    "plt.ylabel('y') "
   ]
  },
  {
   "cell_type": "code",
   "execution_count": 186,
   "metadata": {},
   "outputs": [
    {
     "data": {
      "text/plain": [
       "array([[1.        , 0.86527832],\n",
       "       [1.        , 0.6430889 ],\n",
       "       [1.        , 0.81634876],\n",
       "       [1.        , 0.05379902],\n",
       "       [1.        , 0.85019636],\n",
       "       [1.        , 0.25878815],\n",
       "       [1.        , 0.63827883],\n",
       "       [1.        , 0.01712944],\n",
       "       [1.        , 0.95395218],\n",
       "       [1.        , 0.32373694],\n",
       "       [1.        , 0.05752168],\n",
       "       [1.        , 0.97003573],\n",
       "       [1.        , 0.29484808],\n",
       "       [1.        , 0.76089801],\n",
       "       [1.        , 0.67816748],\n",
       "       [1.        , 0.50719507],\n",
       "       [1.        , 0.96009933],\n",
       "       [1.        , 0.77897143],\n",
       "       [1.        , 0.46553675],\n",
       "       [1.        , 0.02547495],\n",
       "       [1.        , 0.03749636],\n",
       "       [1.        , 0.97118844],\n",
       "       [1.        , 0.14057361],\n",
       "       [1.        , 0.15647337],\n",
       "       [1.        , 0.95345315],\n",
       "       [1.        , 0.40905597],\n",
       "       [1.        , 0.22934986],\n",
       "       [1.        , 0.22714211],\n",
       "       [1.        , 0.69742763],\n",
       "       [1.        , 0.97998092],\n",
       "       [1.        , 0.65368978],\n",
       "       [1.        , 0.99507465],\n",
       "       [1.        , 0.5302832 ],\n",
       "       [1.        , 0.04994025],\n",
       "       [1.        , 0.92923025],\n",
       "       [1.        , 0.35274351],\n",
       "       [1.        , 0.53067378],\n",
       "       [1.        , 0.75300657],\n",
       "       [1.        , 0.38433739],\n",
       "       [1.        , 0.83882542],\n",
       "       [1.        , 0.25356154],\n",
       "       [1.        , 0.32638664],\n",
       "       [1.        , 0.04593191],\n",
       "       [1.        , 0.99277356],\n",
       "       [1.        , 0.45352684],\n",
       "       [1.        , 0.32624423],\n",
       "       [1.        , 0.23734078],\n",
       "       [1.        , 0.74787844],\n",
       "       [1.        , 0.04023914],\n",
       "       [1.        , 0.11865118],\n",
       "       [1.        , 0.30678418],\n",
       "       [1.        , 0.07834796],\n",
       "       [1.        , 0.34533909],\n",
       "       [1.        , 0.24564018],\n",
       "       [1.        , 0.11236087],\n",
       "       [1.        , 0.24715704],\n",
       "       [1.        , 0.11951222],\n",
       "       [1.        , 0.69950912],\n",
       "       [1.        , 0.82955969],\n",
       "       [1.        , 0.54314668],\n",
       "       [1.        , 0.28575718],\n",
       "       [1.        , 0.51646967],\n",
       "       [1.        , 0.55287917],\n",
       "       [1.        , 0.07000073],\n",
       "       [1.        , 0.80189815],\n",
       "       [1.        , 0.31381036],\n",
       "       [1.        , 0.22130837],\n",
       "       [1.        , 0.67778102],\n",
       "       [1.        , 0.90970943],\n",
       "       [1.        , 0.13555362],\n",
       "       [1.        , 0.82329257],\n",
       "       [1.        , 0.11393108],\n",
       "       [1.        , 0.1777053 ],\n",
       "       [1.        , 0.73198565],\n",
       "       [1.        , 0.59534196],\n",
       "       [1.        , 0.92554624],\n",
       "       [1.        , 0.01337717],\n",
       "       [1.        , 0.86641506],\n",
       "       [1.        , 0.10896033],\n",
       "       [1.        , 0.57026338],\n",
       "       [1.        , 0.74137819],\n",
       "       [1.        , 0.35136935],\n",
       "       [1.        , 0.5308571 ],\n",
       "       [1.        , 0.12724054],\n",
       "       [1.        , 0.9987349 ],\n",
       "       [1.        , 0.80670547],\n",
       "       [1.        , 0.05494186],\n",
       "       [1.        , 0.58658642],\n",
       "       [1.        , 0.44167635],\n",
       "       [1.        , 0.80422729],\n",
       "       [1.        , 0.61572176],\n",
       "       [1.        , 0.48420342],\n",
       "       [1.        , 0.44856686],\n",
       "       [1.        , 0.51053566],\n",
       "       [1.        , 0.18863031],\n",
       "       [1.        , 0.56914146],\n",
       "       [1.        , 0.47912308],\n",
       "       [1.        , 0.66900827],\n",
       "       [1.        , 0.90236157],\n",
       "       [1.        , 0.74616143]])"
      ]
     },
     "execution_count": 186,
     "metadata": {},
     "output_type": "execute_result"
    }
   ],
   "source": [
    "X_b = np.c_[np.ones((100,1)),X]\n",
    "X_b"
   ]
  },
  {
   "cell_type": "code",
   "execution_count": 187,
   "metadata": {},
   "outputs": [
    {
     "name": "stdout",
     "output_type": "stream",
     "text": [
      "[[4.54173173]\n",
      " [2.91992593]]\n"
     ]
    }
   ],
   "source": [
    "w_best = np.linalg.inv(X_b.T.dot(X_b)).dot(X_b.T).dot(y)\n",
    "print(w_best)\n"
   ]
  },
  {
   "cell_type": "code",
   "execution_count": 188,
   "metadata": {},
   "outputs": [
    {
     "data": {
      "text/plain": [
       "array([[0],\n",
       "       [2]])"
      ]
     },
     "execution_count": 188,
     "metadata": {},
     "output_type": "execute_result"
    }
   ],
   "source": [
    "X_new = np.array([[0],[2]])\n",
    "X_new"
   ]
  },
  {
   "cell_type": "code",
   "execution_count": 189,
   "metadata": {},
   "outputs": [
    {
     "data": {
      "text/plain": [
       "array([[1., 0.],\n",
       "       [1., 2.]])"
      ]
     },
     "execution_count": 189,
     "metadata": {},
     "output_type": "execute_result"
    }
   ],
   "source": [
    "X_new_b = np.c_[np.ones((2,1)),X_new]\n",
    "X_new_b"
   ]
  },
  {
   "cell_type": "code",
   "execution_count": 190,
   "metadata": {},
   "outputs": [
    {
     "data": {
      "text/plain": [
       "array([[ 4.54173173],\n",
       "       [10.38158359]])"
      ]
     },
     "execution_count": 190,
     "metadata": {},
     "output_type": "execute_result"
    }
   ],
   "source": [
    "\n",
    "y_predict = X_new_b.dot(w_best)\n",
    "y_predict"
   ]
  },
  {
   "cell_type": "code",
   "execution_count": 191,
   "metadata": {},
   "outputs": [
    {
     "data": {
      "image/png": "[encoded data removed]",
      "text/plain": [
       "<Figure size 640x480 with 1 Axes>"
      ]
     },
     "metadata": {},
     "output_type": "display_data"
    }
   ],
   "source": [
    "plt.plot(X_new, y_predict, 'r-')\n",
    "\n",
    "# bütün data\n",
    "plt.plot(X, y, 'b.')\n",
    "\n",
    "plt.xlabel(\"$x_1$\", fontsize=18)\n",
    "plt.ylabel(\"$y$\", rotation=0, fontsize=18)\n",
    "plt.axis([0,2,0,11])\n",
    "plt.show()"
   ]
  },
  {
   "cell_type": "code",
   "execution_count": 192,
   "metadata": {},
   "outputs": [],
   "source": [
    "def cos (W, X, y):\n",
    "    n=len(y)\n",
    "    tah=X.dot(W)\n",
    "    cost=(1/2*n)*np.sum(np.square(tah-y))\n",
    "    return cost"
   ]
  },
  {
   "cell_type": "code",
   "execution_count": 193,
   "metadata": {},
   "outputs": [],
   "source": [
    "\"\"\"def gradient_descent(X, y, W, learning_rate=0.01, iterations=100):\n",
    "    n=len(y)\n",
    "    cost_history = np.zeros(iterations)\n",
    "    w_history= np.zeros((iterations, 2))\n",
    "    for it in (iterations):\n",
    "        tah=np.dot(X,W)\n",
    "        W = W - (1/n) * learning_rate * (X.T.dot((tah-y)))\n",
    "        W = W - (1/n) * learning_rate * (X.T.dot((tahmin - y)))\n",
    "        w_history[it,:]=W.T\n",
    "        cost_history[it] = cos(W, X, y)\n",
    "        return W, cost_history, w_history\n",
    "    \n",
    "    w_history[it,:] = W.T\n",
    "        \n",
    "        cost_history[it] = cal_cost(W, X, y)\n",
    "    \n",
    "    return W, cost_history, w_history\"\"\"\n",
    "def gradient_descent(X, y, W, learning_rate=0.01, iterations=100):\n",
    "    \"\"\"\n",
    "    Gradient Descent uygulama fonksiyonu.\n",
    "    Parametreler:\n",
    "    X = X Matrisi (bias unit eklenmiş hali, yani 1'lerden oluşmuş ilk sütun)\n",
    "    y = y vektörü\n",
    "    W = Katsayı vektörü (w'lardan oluşmuş)\n",
    "    learning_rate = learning rate: alpha (öğrenme katsayısı)\n",
    "    iterations = toplam döngü sayısı\n",
    "    Dönüş:\n",
    "    * W vektörünün son hali\n",
    "    * Maliyet Listesi (cost history)\n",
    "    * W vektörünün listesi (weight history)\n",
    "    \"\"\"\n",
    "    \n",
    "    n = len(y)\n",
    "    cost_history = np.zeros(iterations)\n",
    "    w_history = np.zeros((iterations, 2))\n",
    "    \n",
    "    for it in range(iterations):\n",
    "        \n",
    "        tahmin = np.dot(X, W)\n",
    "        \n",
    "        W = W - (1/n) * learning_rate * (X.T.dot((tahmin - y)))\n",
    "        \n",
    "        w_history[it,:] = W.T\n",
    "        \n",
    "        cost_history[it] = cal_cost(W, X, y)\n",
    "    \n",
    "    return W, cost_history, w_history\n"
   ]
  },
  {
   "cell_type": "code",
   "execution_count": 194,
   "metadata": {},
   "outputs": [
    {
     "ename": "NameError",
     "evalue": "name 'cal_cost' is not defined",
     "output_type": "error",
     "traceback": [
      "\u001b[0;31m---------------------------------------------------------------------------\u001b[0m",
      "\u001b[0;31mNameError\u001b[0m                                 Traceback (most recent call last)",
      "Cell \u001b[0;32mIn[194], line 13\u001b[0m\n\u001b[1;32m     10\u001b[0m X_b \u001b[39m=\u001b[39m np\u001b[39m.\u001b[39mc_[np\u001b[39m.\u001b[39mones((\u001b[39mlen\u001b[39m(X),\u001b[39m1\u001b[39m)),X]\n\u001b[1;32m     12\u001b[0m \u001b[39m# gradient descent çalıştır\u001b[39;00m\n\u001b[0;32m---> 13\u001b[0m W, cost_history, w_history \u001b[39m=\u001b[39m gradient_descent(X_b, y, W, lr, n_iter)\n\u001b[1;32m     16\u001b[0m \u001b[39mprint\u001b[39m(\u001b[39m'\u001b[39m\u001b[39mW0: \u001b[39m\u001b[39m{:0.3f}\u001b[39;00m\u001b[39m'\u001b[39m\u001b[39m.\u001b[39mformat(W[\u001b[39m0\u001b[39m][\u001b[39m0\u001b[39m]))\n\u001b[1;32m     17\u001b[0m \u001b[39mprint\u001b[39m(\u001b[39m'\u001b[39m\u001b[39mW1: \u001b[39m\u001b[39m{:0.3f}\u001b[39;00m\u001b[39m'\u001b[39m\u001b[39m.\u001b[39mformat(W[\u001b[39m1\u001b[39m][\u001b[39m0\u001b[39m]))\n",
      "Cell \u001b[0;32mIn[193], line 45\u001b[0m, in \u001b[0;36mgradient_descent\u001b[0;34m(X, y, W, learning_rate, iterations)\u001b[0m\n\u001b[1;32m     41\u001b[0m     W \u001b[39m=\u001b[39m W \u001b[39m-\u001b[39m (\u001b[39m1\u001b[39m\u001b[39m/\u001b[39mn) \u001b[39m*\u001b[39m learning_rate \u001b[39m*\u001b[39m (X\u001b[39m.\u001b[39mT\u001b[39m.\u001b[39mdot((tahmin \u001b[39m-\u001b[39m y)))\n\u001b[1;32m     43\u001b[0m     w_history[it,:] \u001b[39m=\u001b[39m W\u001b[39m.\u001b[39mT\n\u001b[0;32m---> 45\u001b[0m     cost_history[it] \u001b[39m=\u001b[39m cal_cost(W, X, y)\n\u001b[1;32m     47\u001b[0m \u001b[39mreturn\u001b[39;00m W, cost_history, w_history\n",
      "\u001b[0;31mNameError\u001b[0m: name 'cal_cost' is not defined"
     ]
    }
   ],
   "source": [
    "s\n",
    "\n",
    "lr = 0.01\n",
    "\n",
    "# iterasyon sayısı\n",
    "n_iter = 1000\n",
    "\n",
    "# başlangıç için W vektörü\n",
    "W = np.random.randn(2,1)\n",
    "\n",
    "# X vektörüne bias column ekle\n",
    "X_b = np.c_[np.ones((len(X),1)),X]\n",
    "\n",
    "# gradient descent çalıştır\n",
    "W, cost_history, w_history = gradient_descent(X_b, y, W, lr, n_iter)\n",
    "\n",
    "\n",
    "print('W0: {:0.3f}'.format(W[0][0]))\n",
    "print('W1: {:0.3f}'.format(W[1][0]))\n",
    "print('Final cost/MSE: {:0.3f}'.format(cost_history[-1]))"
   ]
  }
 ],
 "metadata": {
  "kernelspec": {
   "display_name": "Python 3",
   "language": "python",
   "name": "python3"
  },
  "language_info": {
   "codemirror_mode": {
    "name": "ipython",
    "version": 3
   },
   "file_extension": ".py",
   "mimetype": "text/x-python",
   "name": "python",
   "nbconvert_exporter": "python",
   "pygments_lexer": "ipython3",
   "version": "3.10.6"
  },
  "orig_nbformat": 4,
  "vscode": {
   "interpreter": {
    "hash": "916dbcbb3f70747c44a77c7bcd40155683ae19c65e1c03b4aa3499c5328201f1"
   }
  }
 },
 "nbformat": 4,
 "nbformat_minor": 2
}
