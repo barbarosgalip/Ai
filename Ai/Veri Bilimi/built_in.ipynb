{
 "cells": [
  {
   "cell_type": "code",
   "execution_count": 1,
   "metadata": {},
   "outputs": [],
   "source": [
    "#all() 1 false varsa false, liste boşsa true\n",
    "liste1=['Adana','Ağrı','Ankara']\n",
    "tuple1=(1,1,1,0)\n",
    "sözlük1={}\n"
   ]
  },
  {
   "cell_type": "code",
   "execution_count": 2,
   "metadata": {},
   "outputs": [
    {
     "name": "stdout",
     "output_type": "stream",
     "text": [
      "True\n",
      "False\n",
      "True\n"
     ]
    }
   ],
   "source": [
    "print(all(liste1))\n",
    "print(all(tuple1))\n",
    "print(all(sözlük1))"
   ]
  },
  {
   "cell_type": "code",
   "execution_count": 3,
   "metadata": {},
   "outputs": [],
   "source": [
    "#any() 1 true varsa true, liste boşsa false\n",
    "liste1=['Adana','Ağrı','Ankara']\n",
    "tuple1=(0,0,0,1)\n",
    "sözlük1={}"
   ]
  },
  {
   "cell_type": "code",
   "execution_count": 4,
   "metadata": {},
   "outputs": [
    {
     "name": "stdout",
     "output_type": "stream",
     "text": [
      "True\n",
      "False\n",
      "True\n"
     ]
    }
   ],
   "source": [
    "print(all(liste1))\n",
    "print(all(tuple1))\n",
    "print(all(sözlük1))"
   ]
  },
  {
   "cell_type": "code",
   "execution_count": 5,
   "metadata": {},
   "outputs": [
    {
     "data": {
      "text/plain": [
       "[5, 6, 7, 4]"
      ]
     },
     "execution_count": 5,
     "metadata": {},
     "output_type": "execute_result"
    }
   ],
   "source": [
    "#map(uygulanack fonksiyon, iterable nesne)\n",
    "telefon_liste=['xiomi','iphone','samsung','oppo']\n",
    "def uzunluk(x):\n",
    "    return len(x)\n",
    "list(map(uzunluk,telefon_liste)) "
   ]
  },
  {
   "cell_type": "code",
   "execution_count": 6,
   "metadata": {},
   "outputs": [
    {
     "data": {
      "text/plain": [
       "[1, 6, 18, 13]"
      ]
     },
     "execution_count": 6,
     "metadata": {},
     "output_type": "execute_result"
    }
   ],
   "source": [
    "#filter(uygulanack fonksiyon, iterrable nesne) ==> True olanı döner\n",
    "sayı_liste=[1,21,23,6,18,29,13,90]\n",
    "def küçük(x):\n",
    "    return x<20\n",
    "list(filter(küçük,sayı_liste))"
   ]
  },
  {
   "cell_type": "code",
   "execution_count": 7,
   "metadata": {},
   "outputs": [
    {
     "data": {
      "text/plain": [
       "[('a', 1), ('b', 2), ('c', 3), ('d', 4)]"
      ]
     },
     "execution_count": 7,
     "metadata": {},
     "output_type": "execute_result"
    }
   ],
   "source": [
    "#zip() 2 iterable nesneyi indexler üzerinde bileştirir\n",
    "harf_liste=[\"a\",\"b\",\"c\",\"d\"]\n",
    "sayı_liste=[1,2,3,4]\n",
    "list(zip(harf_liste, sayı_liste))"
   ]
  },
  {
   "cell_type": "code",
   "execution_count": 8,
   "metadata": {},
   "outputs": [
    {
     "data": {
      "text/plain": [
       "[(0, 'danimarka'), (1, 'italya'), (2, 'ingiltere'), (3, 'türrkiye')]"
      ]
     },
     "execution_count": 8,
     "metadata": {},
     "output_type": "execute_result"
    }
   ],
   "source": [
    "#enumerate() iterable bir nesnenin elamanlarına index numarası verir\n",
    "ülke_liste=[\"danimarka\",\"italya\",\"ingiltere\",\"türrkiye\"]\n",
    "list(enumerate(ülke_liste,start=0))"
   ]
  },
  {
   "cell_type": "code",
   "execution_count": 9,
   "metadata": {},
   "outputs": [
    {
     "data": {
      "text/plain": [
       "90"
      ]
     },
     "execution_count": 9,
     "metadata": {},
     "output_type": "execute_result"
    }
   ],
   "source": [
    "#max() en büyük nesneyi verir\n",
    "sayı_liste=[1,21,23,6,18,29,13,90]\n",
    "max(sayı_liste)"
   ]
  },
  {
   "cell_type": "code",
   "execution_count": 11,
   "metadata": {},
   "outputs": [
    {
     "data": {
      "text/plain": [
       "1"
      ]
     },
     "execution_count": 11,
     "metadata": {},
     "output_type": "execute_result"
    }
   ],
   "source": [
    "#min() en küçük nesneyi verir\n",
    "sayı_liste=[1,21,23,6,18,29,13,90]\n",
    "min(sayı_liste)"
   ]
  },
  {
   "cell_type": "code",
   "execution_count": 18,
   "metadata": {},
   "outputs": [
    {
     "data": {
      "text/plain": [
       "201"
      ]
     },
     "execution_count": 18,
     "metadata": {},
     "output_type": "execute_result"
    }
   ],
   "source": [
    "#sum() içerisie gren iterble değerlerin toplamını verir\n",
    "sayı_liste=[1,21,23,6,18,29,13,90]\n",
    "sum(sayı_liste)"
   ]
  },
  {
   "cell_type": "code",
   "execution_count": 22,
   "metadata": {},
   "outputs": [
    {
     "name": "stdout",
     "output_type": "stream",
     "text": [
      "12\n",
      "13\n",
      "5.67\n"
     ]
    }
   ],
   "source": [
    "#round() ondalik kısımlara şekil verirğ\n",
    "round(15)\n",
    "print(round(12.5))\n",
    "print(round(12.6))\n",
    "print(round(5.665,ndigits=2))"
   ]
  },
  {
   "cell_type": "code",
   "execution_count": 25,
   "metadata": {},
   "outputs": [
    {
     "data": {
      "text/plain": [
       "27"
      ]
     },
     "execution_count": 25,
     "metadata": {},
     "output_type": "execute_result"
    }
   ],
   "source": [
    "#lambda()  fnksiyon\n",
    "(lambda x : x**3)(3)"
   ]
  },
  {
   "cell_type": "code",
   "execution_count": 26,
   "metadata": {},
   "outputs": [
    {
     "data": {
      "text/plain": [
       "27"
      ]
     },
     "execution_count": 26,
     "metadata": {},
     "output_type": "execute_result"
    }
   ],
   "source": [
    "örnek=(lambda x : x**3)\n",
    "örnek(3)"
   ]
  },
  {
   "cell_type": "code",
   "execution_count": 28,
   "metadata": {},
   "outputs": [
    {
     "data": {
      "text/plain": [
       "'tek'"
      ]
     },
     "execution_count": 28,
     "metadata": {},
     "output_type": "execute_result"
    }
   ],
   "source": [
    "tek_çift=lambda x : \"çift\" if x%2==0 else \"tek\"\n",
    "tek_çift(3)"
   ]
  },
  {
   "cell_type": "code",
   "execution_count": null,
   "metadata": {},
   "outputs": [],
   "source": []
  }
 ],
 "metadata": {
  "kernelspec": {
   "display_name": "Python 3",
   "language": "python",
   "name": "python3"
  },
  "language_info": {
   "codemirror_mode": {
    "name": "ipython",
    "version": 3
   },
   "file_extension": ".py",
   "mimetype": "text/x-python",
   "name": "python",
   "nbconvert_exporter": "python",
   "pygments_lexer": "ipython3",
   "version": "3.10.6"
  },
  "orig_nbformat": 4
 },
 "nbformat": 4,
 "nbformat_minor": 2
}
