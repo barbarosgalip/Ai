{
 "cells": [
  {
   "cell_type": "code",
   "execution_count": 91,
   "metadata": {},
   "outputs": [],
   "source": [
    "# array numpy kütüphanesi içinde bulunan veri tipi\n",
    "import numpy as np"
   ]
  },
  {
   "cell_type": "code",
   "execution_count": 92,
   "metadata": {},
   "outputs": [
    {
     "data": {
      "text/plain": [
       "[2, 4, 6, 8]"
      ]
     },
     "execution_count": 92,
     "metadata": {},
     "output_type": "execute_result"
    }
   ],
   "source": [
    "list(np.array([2,4,6,8]))"
   ]
  },
  {
   "cell_type": "code",
   "execution_count": 93,
   "metadata": {},
   "outputs": [
    {
     "name": "stdout",
     "output_type": "stream",
     "text": [
      "<class 'float'>\n",
      "<class 'int'>\n"
     ]
    }
   ],
   "source": [
    "variable=[5.8,9,4,2]\n",
    "print(type(variable[0]))\n",
    "print(type(variable[1]))"
   ]
  },
  {
   "cell_type": "code",
   "execution_count": 94,
   "metadata": {},
   "outputs": [
    {
     "name": "stdout",
     "output_type": "stream",
     "text": [
      "<class 'numpy.float64'>\n",
      "<class 'numpy.float64'>\n",
      "[5.8 9.  4.  2. ]\n"
     ]
    }
   ],
   "source": [
    "new_variable_1=np.array([5.8,9,4,2])\n",
    "print(type(new_variable_1[0]))\n",
    "print(type(new_variable_1[1]))\n",
    "print(new_variable_1)"
   ]
  },
  {
   "cell_type": "code",
   "execution_count": 95,
   "metadata": {},
   "outputs": [
    {
     "name": "stdout",
     "output_type": "stream",
     "text": [
      "<class 'numpy.int64'>\n",
      "<class 'numpy.int64'>\n",
      "[5 9 4 2]\n"
     ]
    }
   ],
   "source": [
    "new_variable_2=np.array([5.8,9,4,2],dtype=\"int\")\n",
    "print(type(new_variable_2[0]))\n",
    "print(type(new_variable_2[1]))\n",
    "print(new_variable_2)"
   ]
  },
  {
   "cell_type": "code",
   "execution_count": 96,
   "metadata": {},
   "outputs": [
    {
     "name": "stdout",
     "output_type": "stream",
     "text": [
      "[0. 0. 0. 0. 0.]\n",
      "\n",
      "\n",
      "[[0 0 0 0 0]\n",
      " [0 0 0 0 0]\n",
      " [0 0 0 0 0]]\n"
     ]
    }
   ],
   "source": [
    "#np.zeros() istediğimiz boyutta sıfırladan oluşan bir dizi\n",
    "print(np.zeros((5)))\n",
    "print(\"\\n\")\n",
    "print(np.zeros((3,5), dtype=\"int\"))"
   ]
  },
  {
   "cell_type": "code",
   "execution_count": 97,
   "metadata": {},
   "outputs": [
    {
     "name": "stdout",
     "output_type": "stream",
     "text": [
      "[1. 1. 1. 1. 1.]\n",
      "\n",
      "\n",
      "[[[1 1 1 1 1]\n",
      "  [1 1 1 1 1]\n",
      "  [1 1 1 1 1]\n",
      "  [1 1 1 1 1]]\n",
      "\n",
      " [[1 1 1 1 1]\n",
      "  [1 1 1 1 1]\n",
      "  [1 1 1 1 1]\n",
      "  [1 1 1 1 1]]\n",
      "\n",
      " [[1 1 1 1 1]\n",
      "  [1 1 1 1 1]\n",
      "  [1 1 1 1 1]\n",
      "  [1 1 1 1 1]]]\n"
     ]
    }
   ],
   "source": [
    "#np.ones() istediğimiz boyutta birlerden oluşan bir dizi\n",
    "print(np.ones((5)))\n",
    "print(\"\\n\")\n",
    "print(np.ones((3,4,5), dtype=\"int\"))"
   ]
  },
  {
   "cell_type": "code",
   "execution_count": 98,
   "metadata": {},
   "outputs": [
    {
     "name": "stdout",
     "output_type": "stream",
     "text": [
      "[6 6 6 6 6]\n",
      "\n",
      "\n",
      "[[[6. 6. 6. 6. 6.]\n",
      "  [6. 6. 6. 6. 6.]\n",
      "  [6. 6. 6. 6. 6.]\n",
      "  [6. 6. 6. 6. 6.]]\n",
      "\n",
      " [[6. 6. 6. 6. 6.]\n",
      "  [6. 6. 6. 6. 6.]\n",
      "  [6. 6. 6. 6. 6.]\n",
      "  [6. 6. 6. 6. 6.]]\n",
      "\n",
      " [[6. 6. 6. 6. 6.]\n",
      "  [6. 6. 6. 6. 6.]\n",
      "  [6. 6. 6. 6. 6.]\n",
      "  [6. 6. 6. 6. 6.]]]\n"
     ]
    }
   ],
   "source": [
    "#np.full() istediğimiz boyutta istediğimiz sayılardan bir dizi\n",
    "print(np.full(5,6))\n",
    "print(\"\\n\")\n",
    "print(np.full((3,4,5), 6, dtype=\"float\"))"
   ]
  },
  {
   "cell_type": "code",
   "execution_count": 99,
   "metadata": {},
   "outputs": [
    {
     "name": "stdout",
     "output_type": "stream",
     "text": [
      "[0 1 2 3 4]\n",
      "\n",
      "\n",
      "[3. 4. 5. 6. 7. 8. 9.]\n"
     ]
    }
   ],
   "source": [
    "#np.arange() belirlediğimiz başlangıç ve bitiş noktasına göre istedğimiz türe göre np arrayi\n",
    "print(np.arange(5))\n",
    "print(\"\\n\")\n",
    "print(np.arange(3, 10, dtype=\"float\"))"
   ]
  },
  {
   "cell_type": "code",
   "execution_count": 100,
   "metadata": {},
   "outputs": [
    {
     "name": "stdout",
     "output_type": "stream",
     "text": [
      "[[1. 0. 0.]\n",
      " [0. 1. 0.]\n",
      " [0. 0. 1.]]\n",
      "[[1. 0.]\n",
      " [0. 1.]\n",
      " [0. 0.]]\n",
      "[[ True False False]\n",
      " [False  True False]\n",
      " [False False  True]]\n"
     ]
    }
   ],
   "source": [
    " #np.eye() birim matrisi\n",
    "print(np.eye(3))\n",
    "print(np.eye(3,2))\n",
    "print(np.eye(3,3,dtype=\"bool\"))\n"
   ]
  },
  {
   "cell_type": "code",
   "execution_count": 101,
   "metadata": {},
   "outputs": [
    {
     "name": "stdout",
     "output_type": "stream",
     "text": [
      "[10 12 14 16 18 21 23 25 27 30]\n"
     ]
    }
   ],
   "source": [
    "#np.linspace() iki değer arasında belli sayıda değer oluşturma\n",
    "print(np.linspace(10,30,10,dtype=\"int\"))"
   ]
  },
  {
   "cell_type": "code",
   "execution_count": 102,
   "metadata": {},
   "outputs": [
    {
     "name": "stdout",
     "output_type": "stream",
     "text": [
      "[0.3363195  0.0876161  0.2015242  0.23892873 0.84355812]\n",
      "[[0.96394854 0.56899267 0.73489372]\n",
      " [0.3788845  0.90017197 0.27040987]]\n"
     ]
    }
   ],
   "source": [
    "#np.random() rastagele array\n",
    "print(np.random.rand(5))\n",
    "print(np.random.rand(2,3))"
   ]
  },
  {
   "cell_type": "code",
   "execution_count": 103,
   "metadata": {},
   "outputs": [
    {
     "name": "stdout",
     "output_type": "stream",
     "text": [
      "5.026927767065552\n",
      "[[18.88964522 18.94656986 18.51170254]\n",
      " [20.75012859 17.48975631 22.25098603]\n",
      " [16.14915488 19.91285289 29.96383736]\n",
      " [17.55996797 21.49697514 23.42090553]]\n"
     ]
    }
   ],
   "source": [
    "print(np.random.normal(5))\n",
    "print(np.random.normal(20,5,(4,3)))"
   ]
  },
  {
   "cell_type": "code",
   "execution_count": 104,
   "metadata": {},
   "outputs": [
    {
     "name": "stdout",
     "output_type": "stream",
     "text": [
      "[[2 3 9 1]\n",
      " [8 0 7 3]\n",
      " [0 7 9 3]\n",
      " [1 1 1 7]]\n"
     ]
    }
   ],
   "source": [
    "print(np.random.randint(0,10,(4,4)))"
   ]
  },
  {
   "cell_type": "code",
   "execution_count": 105,
   "metadata": {},
   "outputs": [
    {
     "name": "stdout",
     "output_type": "stream",
     "text": [
      "[[31 18 28 46]\n",
      " [46 35 12 47]\n",
      " [35 36 31 49]\n",
      " [22 41 14 48]\n",
      " [48 19 40 42]]\n",
      "2\n",
      "(5, 4)\n",
      "20\n",
      "int64\n"
     ]
    }
   ],
   "source": [
    "matrix=np.random.randint(10,50,(5,4))\n",
    "print(matrix)\n",
    "print(matrix.ndim)\n",
    "print(matrix.shape)\n",
    "print(matrix.size)\n",
    "print(matrix.dtype)\n"
   ]
  }
 ],
 "metadata": {
  "kernelspec": {
   "display_name": "Python 3",
   "language": "python",
   "name": "python3"
  },
  "language_info": {
   "codemirror_mode": {
    "name": "ipython",
    "version": 3
   },
   "file_extension": ".py",
   "mimetype": "text/x-python",
   "name": "python",
   "nbconvert_exporter": "python",
   "pygments_lexer": "ipython3",
   "version": "3.10.6"
  },
  "orig_nbformat": 4
 },
 "nbformat": 4,
 "nbformat_minor": 2
}
