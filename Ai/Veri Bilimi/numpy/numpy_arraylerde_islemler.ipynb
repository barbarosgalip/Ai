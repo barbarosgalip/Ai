{
 "cells": [
  {
   "cell_type": "code",
   "execution_count": 1,
   "metadata": {},
   "outputs": [],
   "source": [
    "import numpy as np"
   ]
  },
  {
   "cell_type": "code",
   "execution_count": 2,
   "metadata": {},
   "outputs": [
    {
     "data": {
      "text/plain": [
       "4"
      ]
     },
     "execution_count": 2,
     "metadata": {},
     "output_type": "execute_result"
    }
   ],
   "source": [
    "array=np.arange(0,11)\n",
    "array[4]"
   ]
  },
  {
   "cell_type": "code",
   "execution_count": 3,
   "metadata": {},
   "outputs": [
    {
     "name": "stderr",
     "output_type": "stream",
     "text": [
      "/tmp/ipykernel_22492/3684699781.py:1: VisibleDeprecationWarning: Creating an ndarray from ragged nested sequences (which is a list-or-tuple of lists-or-tuples-or ndarrays with different lengths or shapes) is deprecated. If you meant to do this, you must specify 'dtype=object' when creating the ndarray.\n",
      "  degisken=np.array([[5,10,15],[20,230],[35,40,45]])\n"
     ]
    },
    {
     "data": {
      "text/plain": [
       "array([list([5, 10, 15]), list([20, 230]), list([35, 40, 45])],\n",
       "      dtype=object)"
      ]
     },
     "execution_count": 3,
     "metadata": {},
     "output_type": "execute_result"
    }
   ],
   "source": [
    "degisken=np.array([[5,10,15],[20,230],[35,40,45]])\n",
    "degisken"
   ]
  },
  {
   "cell_type": "code",
   "execution_count": 4,
   "metadata": {},
   "outputs": [
    {
     "name": "stdout",
     "output_type": "stream",
     "text": [
      "40\n"
     ]
    }
   ],
   "source": [
    "print(degisken[2][1])"
   ]
  },
  {
   "cell_type": "code",
   "execution_count": 5,
   "metadata": {},
   "outputs": [
    {
     "name": "stdout",
     "output_type": "stream",
     "text": [
      "[10 11 12 13 14 15 16 17 18 19]\n",
      "[11 13 15 17 19]\n",
      "[13 15 17 19]\n",
      "[10 13 16]\n"
     ]
    }
   ],
   "source": [
    "array=np.arange(10,20)\n",
    "print(array)\n",
    "print(array[1:10:2])\n",
    "print(array[3::2])\n",
    "print(array[:7:3])"
   ]
  },
  {
   "cell_type": "code",
   "execution_count": 6,
   "metadata": {},
   "outputs": [
    {
     "name": "stdout",
     "output_type": "stream",
     "text": [
      "[[ 0  1  2  3  4  5]\n",
      " [ 6  7  8  9 10 11]\n",
      " [12 13 14 15 16 17]\n",
      " [18 19 20 21 22 23]\n",
      " [24 25 26 27 28 29]]\n",
      "\n",
      "\n",
      "[12 13 14 15 16 17]\n",
      "\n",
      "\n",
      "[ 3  9 15 21 27]\n",
      "\n",
      "\n",
      "[[ 0  1  2  3]\n",
      " [ 6  7  8  9]\n",
      " [12 13 14 15]]\n",
      "\n",
      "\n",
      "[[ 0  2  4]\n",
      " [12 14 16]\n",
      " [24 26 28]]\n"
     ]
    }
   ],
   "source": [
    "array=np.arange(30).reshape(5,6)\n",
    "print(array)\n",
    "print('\\n')\n",
    "print(array[2])\n",
    "print('\\n')\n",
    "print(array[:,3])\n",
    "print('\\n')\n",
    "print(array[:3,:-2])\n",
    "print('\\n')\n",
    "print(array[0::2,0::2])"
   ]
  },
  {
   "cell_type": "code",
   "execution_count": 7,
   "metadata": {},
   "outputs": [
    {
     "name": "stdout",
     "output_type": "stream",
     "text": [
      "[0 1 2 3 4 5 6 7 8 9]\n",
      "[10 10 10 10  7  5  6  4  8  3]\n",
      "[ 0  1  2  3 10 10 10 10 10 10]\n"
     ]
    }
   ],
   "source": [
    "degisken=np.array([0,1,2,3,7,5,6,4,8,3])\n",
    "degisken[4]=4\n",
    "degisken[7]=7\n",
    "degisken[9]=9\n",
    "print(degisken)\n",
    "degisken=np.array([0,1,2,3,7,5,6,4,8,3])\n",
    "degisken[:4]=10\n",
    "print(degisken)\n",
    "degisken=np.array([0,1,2,3,7,5,6,4,8,3])\n",
    "degisken[4:]=10\n",
    "print(degisken)"
   ]
  },
  {
   "cell_type": "code",
   "execution_count": 8,
   "metadata": {},
   "outputs": [
    {
     "name": "stdout",
     "output_type": "stream",
     "text": [
      "[ 0 10 20 30 40 50 60 70 80 90] \n",
      "\n",
      "[[ 10  20  30]\n",
      " [ 40 100  60]\n",
      " [ 70  80  90]] \n",
      "\n",
      "[[ 10  20  30]\n",
      " [ 40 100  60]\n",
      " [ 70  80  90]] \n",
      "\n",
      "[[ 10  20 100]\n",
      " [ 40 100 100]\n",
      " [ 70  80 100]] \n",
      "\n",
      "[[100 100 100]\n",
      " [ 40 100 100]\n",
      " [100 100 100]] \n",
      "\n",
      "[[ 10  20  30]\n",
      " [ 40 100 100]\n",
      " [100 100 100]] \n",
      "\n"
     ]
    }
   ],
   "source": [
    "ornek=np.arange(0,100,10)\n",
    "print(ornek,'\\n')\n",
    "\n",
    "ornek=np.delete(ornek,0).reshape(3,3)\n",
    "ornek[1,1]=100\n",
    "print(ornek,'\\n')\n",
    "\n",
    "ornek[1,0]=40.5\n",
    "print(ornek,'\\n')\n",
    "\n",
    "ornek[:,2]=100\n",
    "print(ornek,'\\n')\n",
    "\n",
    "ornek[0::2,:]=100\n",
    "print(ornek,'\\n')\n",
    "\n",
    "ornek[0]=10,20,30\n",
    "print(ornek,'\\n')"
   ]
  },
  {
   "cell_type": "code",
   "execution_count": 9,
   "metadata": {},
   "outputs": [
    {
     "name": "stdout",
     "output_type": "stream",
     "text": [
      "[ 0  5 10 15 20 25 30 35 40 45] \n",
      "\n",
      "5 15 25 \n",
      "\n",
      "[ 5 15 25] \n",
      "\n",
      "[ 5 15 25] \n",
      "\n"
     ]
    }
   ],
   "source": [
    "fancy=np.arange(0,50,5)\n",
    "print(fancy,\"\\n\")\n",
    "\n",
    "print(fancy[1],fancy[3],fancy[5],'\\n')\n",
    "\n",
    "indexes=[1,3,5]\n",
    "print(fancy[indexes],'\\n')\n",
    "\n",
    "indexes=np.array([1,3,5])\n",
    "print(fancy[indexes],'\\n')\n"
   ]
  },
  {
   "cell_type": "code",
   "execution_count": 10,
   "metadata": {},
   "outputs": [
    {
     "name": "stdout",
     "output_type": "stream",
     "text": [
      "[[0 0 0 0 0 0 0 0 0 0]\n",
      " [0 0 0 0 0 0 0 0 0 0]\n",
      " [0 0 0 0 0 0 0 0 0 0]\n",
      " [0 0 0 0 0 0 0 0 0 0]\n",
      " [0 0 0 0 0 0 0 0 0 0]\n",
      " [0 0 0 0 0 0 0 0 0 0]\n",
      " [0 0 0 0 0 0 0 0 0 0]\n",
      " [0 0 0 0 0 0 0 0 0 0]\n",
      " [0 0 0 0 0 0 0 0 0 0]\n",
      " [0 0 0 0 0 0 0 0 0 0]] \n",
      "\n",
      " (10, 10) \n",
      "\n",
      "[[0 0 0 0 0 0 0 0 0 0]\n",
      " [1 1 1 1 1 1 1 1 1 1]\n",
      " [2 2 2 2 2 2 2 2 2 2]\n",
      " [3 3 3 3 3 3 3 3 3 3]\n",
      " [4 4 4 4 4 4 4 4 4 4]\n",
      " [5 5 5 5 5 5 5 5 5 5]\n",
      " [6 6 6 6 6 6 6 6 6 6]\n",
      " [7 7 7 7 7 7 7 7 7 7]\n",
      " [8 8 8 8 8 8 8 8 8 8]\n",
      " [9 9 9 9 9 9 9 9 9 9]] \n",
      "\n",
      "[[1 1 1 1 1 1 1 1 1 1]\n",
      " [3 3 3 3 3 3 3 3 3 3]\n",
      " [5 5 5 5 5 5 5 5 5 5]\n",
      " [7 7 7 7 7 7 7 7 7 7]] \n",
      "\n",
      "[[8 8 8 8 8 8 8 8 8 8]\n",
      " [5 5 5 5 5 5 5 5 5 5]\n",
      " [2 2 2 2 2 2 2 2 2 2]\n",
      " [0 0 0 0 0 0 0 0 0 0]] \n",
      "\n"
     ]
    }
   ],
   "source": [
    "array=np.zeros((10,10),dtype='int')\n",
    "print(array,\"\\n\\n\", array.shape,\"\\n\")\n",
    "\n",
    "row=array.shape[0]\n",
    "\n",
    "for i in range(row):\n",
    "    array[i]=i\n",
    "\n",
    "print(array,\"\\n\")\n",
    "\n",
    "liste_1=[1,3,5,7]\n",
    "print(array[liste_1],\"\\n\")\n",
    "\n",
    "liste_2=[8,5,2,0]\n",
    "print(array[liste_2],\"\\n\")"
   ]
  },
  {
   "cell_type": "code",
   "execution_count": 11,
   "metadata": {},
   "outputs": [
    {
     "name": "stdout",
     "output_type": "stream",
     "text": [
      "[[ 1  2  3  4]\n",
      " [ 5  6  7  8]\n",
      " [ 9 10 11 12]\n",
      " [13 14 15 16]] \n",
      "\n",
      "[ 2 15] \n",
      "\n",
      "[ 4  9 15  6]\n"
     ]
    }
   ],
   "source": [
    "degisken=np.arange(1,17).reshape(4,4)\n",
    "print(degisken,\"\\n\")\n",
    "\n",
    "print(degisken[[0,3],[1,2]],\"\\n\")\n",
    "\n",
    "row=[0,2,3,1]\n",
    "column=[3,0,2,1]\n",
    "\n",
    "print(degisken[row,column])"
   ]
  },
  {
   "cell_type": "code",
   "execution_count": 12,
   "metadata": {},
   "outputs": [
    {
     "name": "stdout",
     "output_type": "stream",
     "text": [
      "[[ 1  2  3  4]\n",
      " [ 5  6  7  8]\n",
      " [ 9 10 11 12]\n",
      " [13 14 15 16]] \n",
      "\n",
      "[5 8] \n",
      "\n",
      "[ 2 14] \n",
      "\n"
     ]
    }
   ],
   "source": [
    "degisken=np.arange(1,17).reshape(4,4)\n",
    "print(degisken,\"\\n\")\n",
    "\n",
    "print(degisken[1,[0,3]],\"\\n\")\n",
    "\n",
    "print(degisken[[0,3],1],\"\\n\")"
   ]
  },
  {
   "cell_type": "code",
   "execution_count": 13,
   "metadata": {},
   "outputs": [
    {
     "name": "stdout",
     "output_type": "stream",
     "text": [
      "[[ 2  3]\n",
      " [ 6  7]\n",
      " [10 11]\n",
      " [14 15]] \n",
      "\n",
      "[[ 6  7]\n",
      " [10 11]] \n",
      "\n"
     ]
    }
   ],
   "source": [
    "degisken=np.arange(1,17).reshape(4,4)\n",
    "\n",
    "print(degisken[:,1:3],\"\\n\")\n",
    "\n",
    "print(degisken[1:3,[1,2]],\"\\n\")\n"
   ]
  }
 ],
 "metadata": {
  "kernelspec": {
   "display_name": "Python 3",
   "language": "python",
   "name": "python3"
  },
  "language_info": {
   "codemirror_mode": {
    "name": "ipython",
    "version": 3
   },
   "file_extension": ".py",
   "mimetype": "text/x-python",
   "name": "python",
   "nbconvert_exporter": "python",
   "pygments_lexer": "ipython3",
   "version": "3.10.6"
  },
  "orig_nbformat": 4
 },
 "nbformat": 4,
 "nbformat_minor": 2
}
