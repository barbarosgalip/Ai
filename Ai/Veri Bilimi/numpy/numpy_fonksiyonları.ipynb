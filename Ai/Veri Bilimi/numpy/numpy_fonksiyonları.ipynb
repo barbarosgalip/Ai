{
 "cells": [
  {
   "cell_type": "code",
   "execution_count": 2,
   "metadata": {},
   "outputs": [],
   "source": [
    "import numpy as np"
   ]
  },
  {
   "cell_type": "code",
   "execution_count": 3,
   "metadata": {},
   "outputs": [
    {
     "data": {
      "text/plain": [
       "array([[ 1,  2,  3,  4,  5],\n",
       "       [ 6,  7,  8,  9, 10],\n",
       "       [11, 12, 13, 14, 15]])"
      ]
     },
     "execution_count": 3,
     "metadata": {},
     "output_type": "execute_result"
    }
   ],
   "source": [
    "ornek=np.arange(1,16)\n",
    "ornek.reshape((3,5))"
   ]
  },
  {
   "cell_type": "code",
   "execution_count": 4,
   "metadata": {},
   "outputs": [
    {
     "name": "stdout",
     "output_type": "stream",
     "text": [
      "2\n",
      "1\n"
     ]
    }
   ],
   "source": [
    "array=ornek.reshape((1,15))\n",
    "print(array.ndim)\n",
    "print(ornek.ndim)"
   ]
  },
  {
   "cell_type": "code",
   "execution_count": 5,
   "metadata": {},
   "outputs": [
    {
     "name": "stdout",
     "output_type": "stream",
     "text": [
      "[11 35 49  9  2 32 43 44 28 47]\n",
      "49\n",
      "2\n"
     ]
    }
   ],
   "source": [
    "#np.argmax() ve np.max()\n",
    "array_1=np.random.randint(0,50,10)\n",
    "print(array_1)\n",
    "print(array_1.max())\n",
    "print(array_1.argmax())\n"
   ]
  },
  {
   "cell_type": "code",
   "execution_count": 6,
   "metadata": {},
   "outputs": [
    {
     "name": "stdout",
     "output_type": "stream",
     "text": [
      "[[ 6 21 44]\n",
      " [ 7 38 49]\n",
      " [45  3  3]\n",
      " [47 14 30]]\n",
      "49\n",
      "5\n"
     ]
    }
   ],
   "source": [
    "array_2=np.random.randint(0,50,(4,3))\n",
    "print(array_2)\n",
    "print(array_2.max())\n",
    "print(array_2.argmax())"
   ]
  },
  {
   "cell_type": "code",
   "execution_count": 7,
   "metadata": {},
   "outputs": [
    {
     "name": "stdout",
     "output_type": "stream",
     "text": [
      "[35 32 21 46 31 21 39 45 59 65]\n",
      "21\n",
      "2\n"
     ]
    }
   ],
   "source": [
    "#np.argmin() ve np.min()\n",
    "array_1=np.random.randint(20,70,10)\n",
    "print(array_1)\n",
    "print(array_1.min())\n",
    "print(array_1.argmin())"
   ]
  },
  {
   "cell_type": "code",
   "execution_count": 8,
   "metadata": {},
   "outputs": [
    {
     "name": "stdout",
     "output_type": "stream",
     "text": [
      "[[58 38 59]\n",
      " [37 67 23]\n",
      " [44 64 27]\n",
      " [30 52 28]]\n",
      "23\n",
      "5\n"
     ]
    }
   ],
   "source": [
    "array_2=np.random.randint(20,70,(4,3))\n",
    "print(array_2)\n",
    "print(array_2.min())\n",
    "print(array_2.argmin())"
   ]
  },
  {
   "cell_type": "code",
   "execution_count": 9,
   "metadata": {},
   "outputs": [
    {
     "data": {
      "text/plain": [
       "array([1, 2, 3, 4, 5, 6, 7, 8])"
      ]
     },
     "execution_count": 9,
     "metadata": {},
     "output_type": "execute_result"
    }
   ],
   "source": [
    "#np.concatenate()\n",
    "array_1=np.array([1,2,3,4])\n",
    "array_2=np.array([5,6,7,8])\n",
    "np.concatenate([array_1,array_2])"
   ]
  },
  {
   "cell_type": "code",
   "execution_count": 10,
   "metadata": {},
   "outputs": [
    {
     "data": {
      "text/plain": [
       "array([[1, 2, 3],\n",
       "       [4, 5, 6]])"
      ]
     },
     "execution_count": 10,
     "metadata": {},
     "output_type": "execute_result"
    }
   ],
   "source": [
    "array_3=np.arange(1,7).reshape((2,3))\n",
    "array_3"
   ]
  },
  {
   "cell_type": "code",
   "execution_count": 11,
   "metadata": {},
   "outputs": [
    {
     "data": {
      "text/plain": [
       "array([[ 7,  8,  9],\n",
       "       [10, 11, 12]])"
      ]
     },
     "execution_count": 11,
     "metadata": {},
     "output_type": "execute_result"
    }
   ],
   "source": [
    "array_4=np.array([[7,8,9],[10,11,12]])\n",
    "array_4"
   ]
  },
  {
   "cell_type": "code",
   "execution_count": 12,
   "metadata": {},
   "outputs": [
    {
     "name": "stdout",
     "output_type": "stream",
     "text": [
      "[[ 1  2  3]\n",
      " [ 4  5  6]\n",
      " [ 7  8  9]\n",
      " [10 11 12]]\n",
      "\n",
      "\n",
      "[[ 1  2  3  7  8  9]\n",
      " [ 4  5  6 10 11 12]]\n"
     ]
    }
   ],
   "source": [
    "print(np.concatenate([array_3,array_4],axis=0))\n",
    "print('\\n')\n",
    "print(np.concatenate([array_3,array_4],axis=1))"
   ]
  },
  {
   "cell_type": "code",
   "execution_count": 13,
   "metadata": {},
   "outputs": [
    {
     "name": "stdout",
     "output_type": "stream",
     "text": [
      "[array([1, 3, 5]), array([50, 50]), array([2, 4, 6])]\n",
      "[1 3 5] [50 50] [2 4 6]\n",
      "[array([1, 3]), array([ 5, 50]), array([50,  2]), array([4, 6])]\n"
     ]
    }
   ],
   "source": [
    "#np.split()\n",
    "array_1=np.array([1,3,5,50,50,2,4,6])\n",
    "print(np.split(array_1,[3,5]))\n",
    "x,y,z=np.split(array_1,[3,5])\n",
    "print(x,y,z)\n",
    "print(np.split(array_1,4))"
   ]
  },
  {
   "cell_type": "code",
   "execution_count": 14,
   "metadata": {},
   "outputs": [
    {
     "name": "stdout",
     "output_type": "stream",
     "text": [
      "[[ 0  1  2  3]\n",
      " [ 4  5  6  7]\n",
      " [ 8  9 10 11]\n",
      " [12 13 14 15]\n",
      " [16 17 18 19]] \n",
      "\n",
      "[[0 1 2 3]] [[ 4  5  6  7]\n",
      " [ 8  9 10 11]] [[12 13 14 15]\n",
      " [16 17 18 19]]\n"
     ]
    }
   ],
   "source": [
    "array_1=np.arange(20).reshape(5,4)\n",
    "print(array_1,'\\n')\n",
    "x,y,z=np.split(array_1,[1,3])\n",
    "print(x,y,z)"
   ]
  },
  {
   "cell_type": "code",
   "execution_count": 15,
   "metadata": {},
   "outputs": [
    {
     "data": {
      "text/plain": [
       "[array([[ 0],\n",
       "        [ 4],\n",
       "        [ 8],\n",
       "        [12],\n",
       "        [16]]),\n",
       " array([[ 1,  2],\n",
       "        [ 5,  6],\n",
       "        [ 9, 10],\n",
       "        [13, 14],\n",
       "        [17, 18]]),\n",
       " array([[ 3],\n",
       "        [ 7],\n",
       "        [11],\n",
       "        [15],\n",
       "        [19]])]"
      ]
     },
     "execution_count": 15,
     "metadata": {},
     "output_type": "execute_result"
    }
   ],
   "source": [
    "np.split(array_1,[1,3],axis=1)"
   ]
  },
  {
   "cell_type": "code",
   "execution_count": 16,
   "metadata": {},
   "outputs": [
    {
     "name": "stdout",
     "output_type": "stream",
     "text": [
      "[array([[ 0],\n",
      "       [ 4],\n",
      "       [ 8],\n",
      "       [12],\n",
      "       [16]]), array([[ 1],\n",
      "       [ 5],\n",
      "       [ 9],\n",
      "       [13],\n",
      "       [17]]), array([[ 2],\n",
      "       [ 6],\n",
      "       [10],\n",
      "       [14],\n",
      "       [18]]), array([[ 3],\n",
      "       [ 7],\n",
      "       [11],\n",
      "       [15],\n",
      "       [19]])]\n"
     ]
    }
   ],
   "source": [
    "#np.hsplit()\n",
    "print(np.hsplit(array_1,4))"
   ]
  },
  {
   "cell_type": "code",
   "execution_count": 17,
   "metadata": {},
   "outputs": [
    {
     "name": "stdout",
     "output_type": "stream",
     "text": [
      "[array([[ 0],\n",
      "       [ 4],\n",
      "       [ 8],\n",
      "       [12],\n",
      "       [16]]), array([[ 1,  2],\n",
      "       [ 5,  6],\n",
      "       [ 9, 10],\n",
      "       [13, 14],\n",
      "       [17, 18]]), array([[ 3],\n",
      "       [ 7],\n",
      "       [11],\n",
      "       [15],\n",
      "       [19]])]\n"
     ]
    }
   ],
   "source": [
    "print(np.hsplit(array_1,[1,3]))"
   ]
  },
  {
   "cell_type": "code",
   "execution_count": 18,
   "metadata": {},
   "outputs": [
    {
     "data": {
      "text/plain": [
       "[array([[0, 1, 2, 3]]),\n",
       " array([[4, 5, 6, 7]]),\n",
       " array([[ 8,  9, 10, 11]]),\n",
       " array([[12, 13, 14, 15]]),\n",
       " array([[16, 17, 18, 19]])]"
      ]
     },
     "execution_count": 18,
     "metadata": {},
     "output_type": "execute_result"
    }
   ],
   "source": [
    "#np.vsplit()\n",
    "np.vsplit(array_1,5)"
   ]
  },
  {
   "cell_type": "code",
   "execution_count": 19,
   "metadata": {},
   "outputs": [
    {
     "data": {
      "text/plain": [
       "[array([[0, 1, 2, 3]]),\n",
       " array([[ 4,  5,  6,  7],\n",
       "        [ 8,  9, 10, 11]]),\n",
       " array([[12, 13, 14, 15],\n",
       "        [16, 17, 18, 19]])]"
      ]
     },
     "execution_count": 19,
     "metadata": {},
     "output_type": "execute_result"
    }
   ],
   "source": [
    "np.vsplit(array_1,[1,3])"
   ]
  },
  {
   "cell_type": "code",
   "execution_count": 20,
   "metadata": {},
   "outputs": [
    {
     "name": "stdout",
     "output_type": "stream",
     "text": [
      "[2 5 6 1 9 8]\n",
      "[1 2 5 6 8 9]\n"
     ]
    }
   ],
   "source": [
    "#np.sort()\n",
    "degisken1=np.array([2,5,6,1,9,8])\n",
    "print(degisken1)\n",
    "degisken2=np.sort(degisken1)\n",
    "print(degisken2)"
   ]
  },
  {
   "cell_type": "code",
   "execution_count": 21,
   "metadata": {},
   "outputs": [
    {
     "name": "stdout",
     "output_type": "stream",
     "text": [
      "[[20.12677289 25.69702927 27.77386654 33.14732991]\n",
      " [15.81879317 18.33417712 29.35124031 39.27372064]\n",
      " [26.30295645 29.59311238 35.1486133  37.13088825]\n",
      " [24.21501967 25.69934094 33.37006466 36.33073062]]\n",
      "[[26.30295645 18.33417712 15.81879317 20.12677289]\n",
      " [33.14732991 25.69702927 27.77386654 24.21501967]\n",
      " [36.33073062 25.69934094 33.37006466 29.35124031]\n",
      " [39.27372064 29.59311238 37.13088825 35.1486133 ]]\n"
     ]
    }
   ],
   "source": [
    "degisken1=np.random.normal(30,5,(4,4))\n",
    "degisken2=np.sort(degisken1,axis=1)\n",
    "degisken3=np.sort(degisken1,axis=0)\n",
    "print(degisken2)\n",
    "print(degisken3)"
   ]
  }
 ],
 "metadata": {
  "kernelspec": {
   "display_name": "Python 3",
   "language": "python",
   "name": "python3"
  },
  "language_info": {
   "codemirror_mode": {
    "name": "ipython",
    "version": 3
   },
   "file_extension": ".py",
   "mimetype": "text/x-python",
   "name": "python",
   "nbconvert_exporter": "python",
   "pygments_lexer": "ipython3",
   "version": "3.10.6"
  },
  "orig_nbformat": 4
 },
 "nbformat": 4,
 "nbformat_minor": 2
}
