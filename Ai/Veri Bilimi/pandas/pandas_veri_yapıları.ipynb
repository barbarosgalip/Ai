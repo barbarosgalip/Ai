{
 "cells": [
  {
   "cell_type": "code",
   "execution_count": 2,
   "metadata": {},
   "outputs": [],
   "source": [
    "import pandas as pd\n",
    "import numpy as np"
   ]
  },
  {
   "cell_type": "code",
   "execution_count": 3,
   "metadata": {},
   "outputs": [
    {
     "data": {
      "text/plain": [
       "0     1\n",
       "1     2\n",
       "2     3\n",
       "3     4\n",
       "4     5\n",
       "5     6\n",
       "6     7\n",
       "7     8\n",
       "8     9\n",
       "9    10\n",
       "dtype: int64"
      ]
     },
     "execution_count": 3,
     "metadata": {},
     "output_type": "execute_result"
    }
   ],
   "source": [
    "pd.Series([1,2,3,4,5,6,7,8,9,10])"
   ]
  },
  {
   "cell_type": "code",
   "execution_count": 4,
   "metadata": {},
   "outputs": [
    {
     "data": {
      "text/plain": [
       "a     2\n",
       "b     4\n",
       "c     6\n",
       "d     8\n",
       "e    10\n",
       "dtype: int64"
      ]
     },
     "execution_count": 4,
     "metadata": {},
     "output_type": "execute_result"
    }
   ],
   "source": [
    "list_data=list(range(2,12,2))\n",
    "list_index=[\"a\",\"b\",\"c\",\"d\",\"e\"]\n",
    "degisken=pd.Series(data=list_data,index=list_index)\n",
    "degisken"
   ]
  },
  {
   "cell_type": "code",
   "execution_count": 5,
   "metadata": {},
   "outputs": [
    {
     "name": "stdout",
     "output_type": "stream",
     "text": [
      "ferrari        334.2\n",
      "porche         337.9\n",
      "lamborghini    350.4\n",
      "dtype: float64 \n",
      "\n",
      "ferrari    334.2\n",
      "bmw          NaN\n",
      "porche     337.9\n",
      "dtype: float64\n"
     ]
    }
   ],
   "source": [
    "kutuphane={\"ferrari\":334.2,\"porche\":337.9, \"lamborghini\":350.4}\n",
    "print(pd.Series(data=kutuphane),'\\n')\n",
    "degisken=pd.Series(data=kutuphane, index=[\"ferrari\",\"bmw\",\"porche\"])\n",
    "print(degisken)"
   ]
  },
  {
   "cell_type": "code",
   "execution_count": 6,
   "metadata": {},
   "outputs": [
    {
     "data": {
      "text/plain": [
       "a    1.0\n",
       "b    3.3\n",
       "c    7.0\n",
       "d    9.1\n",
       "e    6.0\n",
       "dtype: float64"
      ]
     },
     "execution_count": 6,
     "metadata": {},
     "output_type": "execute_result"
    }
   ],
   "source": [
    "ornek=np.array([1,3.3,7,9.1,6])\n",
    "labels=np.array([\"a\",\"b\",\"c\",\"d\",\"e\"])\n",
    "degisken=pd.Series(data=ornek, index=labels)\n",
    "degisken"
   ]
  },
  {
   "cell_type": "code",
   "execution_count": 7,
   "metadata": {},
   "outputs": [
    {
     "name": "stdout",
     "output_type": "stream",
     "text": [
      "0    world\n",
      "1        5\n",
      "2      1.1\n",
      "3    False\n",
      "dtype: object \n",
      "\n",
      "world \n",
      "\n",
      "<class 'str'> <class 'int'> <class 'float'> <class 'bool'> \n",
      "\n"
     ]
    },
    {
     "data": {
      "text/plain": [
       "0    <built-in function sum>\n",
       "1    <built-in function max>\n",
       "2             <class 'type'>\n",
       "dtype: object"
      ]
     },
     "execution_count": 7,
     "metadata": {},
     "output_type": "execute_result"
    }
   ],
   "source": [
    "degisken=pd.Series([\"world\",5,1.1,False])\n",
    "print(degisken,'\\n')\n",
    "print(degisken[0],'\\n')\n",
    "print(type(degisken[0]),type(degisken[1]),type(degisken[2]),type(degisken[3]),'\\n')\n",
    "#önemli\n",
    "pd.Series([sum,max,type])\n"
   ]
  },
  {
   "cell_type": "code",
   "execution_count": 8,
   "metadata": {},
   "outputs": [
    {
     "name": "stdout",
     "output_type": "stream",
     "text": [
      "0    world\n",
      "1        5\n",
      "2      1.1\n",
      "3    False\n",
      "dtype: object \n",
      "\n",
      "[RangeIndex(start=0, stop=4, step=1)] \n",
      "\n",
      "object \n",
      "\n",
      "4 \n",
      "\n",
      "1 \n",
      "\n",
      "0    world\n",
      "1        5\n",
      "2      1.1\n",
      "3    False\n",
      "dtype: object \n",
      "\n",
      "0    world\n",
      "1        5\n",
      "2      1.1\n",
      "3    False\n",
      "dtype: object \n",
      "\n"
     ]
    }
   ],
   "source": [
    "print(degisken,'\\n')\n",
    "print(degisken.axes,'\\n')\n",
    "print(degisken.dtype,'\\n')\n",
    "print(degisken.size,'\\n')\n",
    "print(degisken.ndim,'\\n')\n",
    "print(degisken.head(),'\\n')\n",
    "print(degisken.tail(),'\\n')"
   ]
  },
  {
   "cell_type": "code",
   "execution_count": 9,
   "metadata": {},
   "outputs": [
    {
     "name": "stdout",
     "output_type": "stream",
     "text": [
      "a    5\n",
      "b    8\n",
      "c    6\n",
      "d    3\n",
      "e    1\n",
      "dtype: int64 \n",
      "\n",
      "e    1\n",
      "d    3\n",
      "a    5\n",
      "c    6\n",
      "b    8\n",
      "dtype: int64 \n",
      "\n",
      "b    False\n",
      "d    False\n",
      "c     True\n",
      "a    False\n",
      "e     True\n",
      "dtype: bool \n",
      "\n",
      "c    6\n",
      "e    1\n",
      "dtype: int64 \n",
      "\n"
     ]
    }
   ],
   "source": [
    "degisken=pd.Series([8,3,6,5,1], index=[\"b\",\"d\",\"c\",\"a\",\"e\"])\n",
    "degisken_1=degisken.sort_index()\n",
    "degisken_2=degisken.sort_values()\n",
    "print(degisken_1,'\\n')\n",
    "print(degisken_2  ,'\\n')\n",
    "#aranan değşkenin true olduğu yeri yazar\n",
    "print(degisken.isin([6,1])  ,'\\n')\n",
    "#aranan değişkeni yazar\n",
    "print(degisken[degisken.isin([6,1])]  ,'\\n')"
   ]
  },
  {
   "cell_type": "code",
   "execution_count": 10,
   "metadata": {},
   "outputs": [
    {
     "name": "stdout",
     "output_type": "stream",
     "text": [
      "[8 3 6 5 1] \n",
      "\n",
      "[8, 3, 6, 5, 1]\n",
      "Index(['b', 'd', 'c', 'a', 'e'], dtype='object') \n",
      "\n",
      "['b', 'd', 'c', 'a', 'e']\n"
     ]
    }
   ],
   "source": [
    "print(degisken.values  ,'\\n')\n",
    "print([i for i in degisken.values])\n",
    "print(degisken.index  ,'\\n')\n",
    "print([i for i in degisken.index])"
   ]
  },
  {
   "cell_type": "code",
   "execution_count": 11,
   "metadata": {},
   "outputs": [
    {
     "name": "stdout",
     "output_type": "stream",
     "text": [
      "<bound method Series.items of b    8\n",
      "d    3\n",
      "c    6\n",
      "a    5\n",
      "e    1\n",
      "dtype: int64> \n",
      "\n",
      "<zip object at 0x7feadde2c4c0> \n",
      "\n",
      "[('b', 8), ('d', 3), ('c', 6), ('a', 5), ('e', 1)]\n"
     ]
    }
   ],
   "source": [
    "print(degisken.items,'\\n')\n",
    "print(degisken.items(),'\\n')\n",
    "print(list(degisken.items()))"
   ]
  },
  {
   "cell_type": "code",
   "execution_count": 12,
   "metadata": {},
   "outputs": [
    {
     "name": "stdout",
     "output_type": "stream",
     "text": [
      "b    8\n",
      "d    3\n",
      "c    6\n",
      "a    5\n",
      "e    1\n",
      "dtype: int64 \n",
      "\n",
      "3 \n",
      "\n",
      "d    3\n",
      "c    6\n",
      "a    5\n",
      "e    1\n",
      "dtype: int64 \n",
      "\n"
     ]
    }
   ],
   "source": [
    "#indexleme\n",
    "print(degisken,'\\n')\n",
    "print(degisken[1],'\\n')\n",
    "#dilimleme\n",
    "print(degisken['d':'e'],'\\n')"
   ]
  }
 ],
 "metadata": {
  "kernelspec": {
   "display_name": "Python 3",
   "language": "python",
   "name": "python3"
  },
  "language_info": {
   "codemirror_mode": {
    "name": "ipython",
    "version": 3
   },
   "file_extension": ".py",
   "mimetype": "text/x-python",
   "name": "python",
   "nbconvert_exporter": "python",
   "pygments_lexer": "ipython3",
   "version": "3.10.6"
  },
  "orig_nbformat": 4
 },
 "nbformat": 4,
 "nbformat_minor": 2
}
